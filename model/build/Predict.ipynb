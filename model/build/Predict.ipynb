{
 "cells": [
  {
   "cell_type": "code",
   "execution_count": 1,
   "metadata": {},
   "outputs": [],
   "source": [
    "from ultralytics import YOLO\n",
    "import tensorflow as tf\n",
    "import numpy as np\n",
    "import cv2"
   ]
  },
  {
   "cell_type": "code",
   "execution_count": 2,
   "metadata": {},
   "outputs": [],
   "source": [
    "LABELS = [\"Boxing\", \"Punching\", \"Standing\", \"Holding\"] "
   ]
  },
  {
   "cell_type": "code",
   "execution_count": 3,
   "metadata": {},
   "outputs": [],
   "source": [
    "LSTM_Model = tf.keras.models.load_model('model\\\\best\\\\model.keras')"
   ]
  },
  {
   "cell_type": "code",
   "execution_count": null,
   "metadata": {},
   "outputs": [],
   "source": [
    "model = YOLO('yolov8n-pose.pt')\n",
    "\n",
    "cap = cv2.VideoCapture(0)\n",
    "\n",
    "\n",
    "steps = 0\n",
    "lst_of_dct = {'key_1':[]}\n",
    "label = \" \"\n",
    "lst = []\n",
    "predictions_lst = []\n",
    "label_ = ''\n",
    "\n",
    "while True:\n",
    "\n",
    "    ret, image = cap.read()\n",
    "\n",
    "    results = model.predict(source=image, conf=0.4, classes= 0, device=0, save=False)\n",
    "    \n",
    "    boxes = results[0].boxes\n",
    "    result_keypoint = results[0].keypoints\n",
    "   \n",
    "    \n",
    "    if len(result_keypoint[0].xy[0]) == 0:\n",
    "        continue\n",
    "    else:\n",
    "        num = result_keypoint[0].xy[0].cpu().numpy()\n",
    "        num = num.reshape((1, 34))\n",
    "        \n",
    "        lst_of_dct['key_1'].append(num)\n",
    "        steps += 1\n",
    "        \n",
    "        if steps == 64:\n",
    "\n",
    "            steps = 0\n",
    "            lst=lst_of_dct['key_1']\n",
    "            lst_of_dct = {'key_1':[]}\n",
    "                \n",
    "            lst = np.array(lst)\n",
    "            lst = lst.reshape((1, 64, 34))\n",
    "            \n",
    "            preds = LSTM_Model.predict(lst)\n",
    "            \n",
    "            threshold = 0.8\n",
    "            predicted_probabilities = preds[0]\n",
    "            \n",
    "            max_prob = np.max(predicted_probabilities)\n",
    "        \n",
    "            if max_prob > threshold:\n",
    "                label = LABELS[np.argmax(preds)]\n",
    "                predictions_lst.append(label)\n",
    "            else:\n",
    "                label = \"NORMAL\"\n",
    "                predictions_lst.append(label)\n",
    "\n",
    "        image = cv2.putText(image, label, (50, 50), cv2.FONT_HERSHEY_SIMPLEX, 1, (255, 0, 0), 2)\n",
    "        image = cv2.resize(image, (1280, 720))\n",
    "        cv2.imshow(\"Prediction\", image)\n",
    "\n",
    "        key = cv2.waitKey(1)\n",
    "        if key == ord(\"a\"):\n",
    "            break\n",
    "\n",
    "\n",
    "cv2.destroyAllWindows()"
   ]
  }
 ],
 "metadata": {
  "kernelspec": {
   "display_name": "yala",
   "language": "python",
   "name": "python3"
  },
  "language_info": {
   "codemirror_mode": {
    "name": "ipython",
    "version": 3
   },
   "file_extension": ".py",
   "mimetype": "text/x-python",
   "name": "python",
   "nbconvert_exporter": "python",
   "pygments_lexer": "ipython3",
   "version": "3.11.4"
  },
  "orig_nbformat": 4
 },
 "nbformat": 4,
 "nbformat_minor": 2
}
